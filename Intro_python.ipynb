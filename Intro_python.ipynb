{
  "cells": [
    {
      "cell_type": "markdown",
      "metadata": {
        "id": "view-in-github",
        "colab_type": "text"
      },
      "source": [
        "<a href=\"https://colab.research.google.com/github/cole98ster/Python_Intro/blob/main/Intro_python.ipynb\" target=\"_parent\"><img src=\"https://colab.research.google.com/assets/colab-badge.svg\" alt=\"Open In Colab\"/></a>"
      ]
    },
    {
      "cell_type": "markdown",
      "metadata": {
        "id": "Tcitp__Zt-7l"
      },
      "source": [
        "##  Steps to get better at python\n",
        " [Steps To Get Better At Python](https://www.youtube.com/watch?v=p15xzjzR9j0)\n",
        "\n",
        "[Python Guide](https://www.w3schools.com/python/default.asp)\n",
        "\n",
        "---\n",
        "\n",
        "\n",
        " Basic Steps\n",
        "* First learn all operators and conditions ✅\n",
        "* If/else commands ✅\n",
        "* Loops and Iterables ✅\n",
        "* Functions ✅\n",
        " * Mutable ✅\n",
        "* GitHub\n",
        " * How it works (needs more practice)\n",
        " * Basic Idea ✅\n",
        "---\n",
        "\n",
        " Intermediate Steps\n",
        "* Classes and Objects ✅\n",
        "* Data Structures ✅\n",
        "* Comprehensions ✅\n",
        "* Lambda Functions\n",
        "* Machine Learning\n",
        "* Collections Module Map and Filter\n",
        "* args and kwargs\n",
        "* Inheritance\n",
        "* Adcanced class behavior\n",
        "* PIP\n",
        "* Enviroments\n",
        "* Module Creation\n",
        "* Async IO\n",
        "\n",
        "---\n",
        "Advanced Steps\n",
        "* Decorators\n",
        "* Generators\n",
        "* context managers\n",
        "* metaclasses\n",
        "* concurrency\n",
        "* parellelism\n",
        "* testing\n",
        "* packages\n",
        "* cython\n",
        "\n",
        "---\n",
        "\n",
        "\n"
      ]
    },
    {
      "cell_type": "markdown",
      "metadata": {
        "id": "P860y44Bl8bH"
      },
      "source": [
        "# Start of Basic Steps Practice"
      ]
    },
    {
      "cell_type": "code",
      "execution_count": null,
      "metadata": {
        "colab": {
          "base_uri": "https://localhost:8080/"
        },
        "id": "2p6nnc4ZmJCK",
        "outputId": "dbbe0786-2bbb-446e-e5aa-d2a25d521a42"
      },
      "outputs": [
        {
          "name": "stdout",
          "output_type": "stream",
          "text": [
            "11.426\n"
          ]
        }
      ],
      "source": [
        "x1 = 4.67\n",
        "x2 = 6.756\n",
        "print(x1 + x2)"
      ]
    },
    {
      "cell_type": "markdown",
      "metadata": {
        "id": "wJh1OT8JmrxH"
      },
      "source": [
        "### Basic Operators\n",
        "---\n",
        "### + - / *\n"
      ]
    },
    {
      "cell_type": "code",
      "execution_count": null,
      "metadata": {
        "colab": {
          "base_uri": "https://localhost:8080/"
        },
        "id": "Mr8hzyqvnATp",
        "outputId": "f5c0681d-2122-4379-9b31-8adac263335c"
      },
      "outputs": [
        {
          "name": "stdout",
          "output_type": "stream",
          "text": [
            "-1.5\n",
            "2\n"
          ]
        }
      ],
      "source": [
        "x3 = -6\n",
        "x4 = 4\n",
        "print(x3 / x4)\n",
        "print(x3 % x4)"
      ]
    },
    {
      "cell_type": "markdown",
      "metadata": {
        "id": "ld6VBBlZnxve"
      },
      "source": [
        "Modulus or % is used to get the remainder from division"
      ]
    },
    {
      "cell_type": "code",
      "execution_count": null,
      "metadata": {
        "colab": {
          "base_uri": "https://localhost:8080/"
        },
        "id": "9vWJ9lgTn9DN",
        "outputId": "9f2c0496-c8e2-41e2-d545-3a4591a09523"
      },
      "outputs": [
        {
          "name": "stdout",
          "output_type": "stream",
          "text": [
            "8\n"
          ]
        }
      ],
      "source": [
        "x5 = 2\n",
        "x6= 3\n",
        "print(x5 ** x6)"
      ]
    },
    {
      "cell_type": "markdown",
      "metadata": {
        "id": "eF4qKQoE9Trr"
      },
      "source": [
        "Expontentiation or ** is used to apply an exponent to a base number"
      ]
    },
    {
      "cell_type": "code",
      "execution_count": null,
      "metadata": {
        "colab": {
          "base_uri": "https://localhost:8080/"
        },
        "id": "PaLKHho-ooZr",
        "outputId": "aea0f39e-d79d-4859-9e83-d23df6e34111"
      },
      "outputs": [
        {
          "name": "stdout",
          "output_type": "stream",
          "text": [
            "6.0\n"
          ]
        }
      ],
      "source": [
        "x7 = 42.67\n",
        "x2 = 6.756\n",
        "print(x7 // x2)"
      ]
    },
    {
      "cell_type": "markdown",
      "metadata": {
        "id": "xz9bpYXn-Cgi"
      },
      "source": [
        "Floor Division or // is division of two float numbers, then rounds the quotient to an integer."
      ]
    },
    {
      "cell_type": "markdown",
      "metadata": {
        "id": "f21Y5dCt-j1V"
      },
      "source": [
        "#### Python Assignment Operators"
      ]
    },
    {
      "cell_type": "code",
      "execution_count": null,
      "metadata": {
        "colab": {
          "base_uri": "https://localhost:8080/"
        },
        "id": "z5u2W3eYAUsC",
        "outputId": "197cb281-d554-4447-fab7-b2f0abb009dc"
      },
      "outputs": [
        {
          "name": "stdout",
          "output_type": "stream",
          "text": [
            "False\n"
          ]
        }
      ],
      "source": [
        "x7 = 42.67\n",
        "x2 = 6.756\n",
        "print(x7 == x2)"
      ]
    },
    {
      "cell_type": "markdown",
      "metadata": {
        "id": "cTBPlW15AoPG"
      },
      "source": [
        "if true, double equal sign or == means exponent 1 is equal to exponent 2.\n",
        "if false, double equal sign or == means exponent 1 is **NOT** equal to exponent 2."
      ]
    },
    {
      "cell_type": "code",
      "execution_count": null,
      "metadata": {
        "colab": {
          "base_uri": "https://localhost:8080/"
        },
        "id": "i0YXVO-jAonT",
        "outputId": "2ee67476-6897-422e-9d14-121f37c10510"
      },
      "outputs": [
        {
          "name": "stdout",
          "output_type": "stream",
          "text": [
            "True\n"
          ]
        }
      ],
      "source": [
        "x7 = 42.67\n",
        "x2 = 6.756\n",
        "print(x7 != x2)"
      ]
    },
    {
      "cell_type": "markdown",
      "metadata": {
        "id": "snKyGaqGBPbI"
      },
      "source": [
        "If true, exclamation mark + equal sign or != means exponent 1 is **NOT** equal to exponent 2.\n",
        "If false, exclamation mark + equal sign or != means exponent 1 is equal to exponent 2."
      ]
    },
    {
      "cell_type": "code",
      "execution_count": null,
      "metadata": {
        "colab": {
          "base_uri": "https://localhost:8080/"
        },
        "id": "I1oihFbxCYnD",
        "outputId": "4e6466b5-9879-407f-ae20-bfa2dc092388"
      },
      "outputs": [
        {
          "data": {
            "text/plain": [
              "False"
            ]
          },
          "execution_count": 25,
          "metadata": {},
          "output_type": "execute_result"
        }
      ],
      "source": [
        "x2 > x7"
      ]
    },
    {
      "cell_type": "markdown",
      "metadata": {
        "id": "Z6V7gO2_Cf7B"
      },
      "source": [
        "This operator means greater than (>), or less than (<)."
      ]
    },
    {
      "cell_type": "code",
      "execution_count": null,
      "metadata": {
        "colab": {
          "base_uri": "https://localhost:8080/"
        },
        "id": "dX1UbiDbCMAN",
        "outputId": "571a8ac3-b0a4-418a-db8d-b4681156419d"
      },
      "outputs": [
        {
          "data": {
            "text/plain": [
              "False"
            ]
          },
          "execution_count": 24,
          "metadata": {},
          "output_type": "execute_result"
        }
      ],
      "source": [
        "x7 >= 5\n",
        "x2 <= 4"
      ]
    },
    {
      "cell_type": "markdown",
      "metadata": {
        "id": "C-ZTixOXCe5C"
      },
      "source": [
        "These operators just mean greater or equal to  (>=), and less or equal to (<=)."
      ]
    },
    {
      "cell_type": "markdown",
      "metadata": {
        "id": "APLLgRACDCMk"
      },
      "source": [
        "#### Python Logical Operators"
      ]
    },
    {
      "cell_type": "code",
      "execution_count": null,
      "metadata": {
        "colab": {
          "base_uri": "https://localhost:8080/"
        },
        "id": "LoZAG6NjC__G",
        "outputId": "4386d541-7e71-433b-c28a-bf89e9167666"
      },
      "outputs": [
        {
          "data": {
            "text/plain": [
              "True"
            ]
          },
          "execution_count": 30,
          "metadata": {},
          "output_type": "execute_result"
        }
      ],
      "source": [
        "x5 = 1\n",
        "x6 = 3\n",
        "x5 <= 2 and x6 > 2"
      ]
    },
    {
      "cell_type": "markdown",
      "metadata": {
        "id": "NDbRTAqHKUWy"
      },
      "source": [
        "**AND** returns true if both statements are true"
      ]
    },
    {
      "cell_type": "code",
      "execution_count": null,
      "metadata": {
        "colab": {
          "base_uri": "https://localhost:8080/"
        },
        "id": "oiz-3TpCKLr0",
        "outputId": "3f92fb3b-2195-477e-d1d3-415317f9a899"
      },
      "outputs": [
        {
          "data": {
            "text/plain": [
              "True"
            ]
          },
          "execution_count": 31,
          "metadata": {},
          "output_type": "execute_result"
        }
      ],
      "source": [
        "x5 = 1\n",
        "x6 = 3\n",
        "x5 <= 2 or x6 > 2"
      ]
    },
    {
      "cell_type": "markdown",
      "metadata": {
        "id": "pzLd3lL7KjN1"
      },
      "source": [
        "**OR** returns true if one statement is true"
      ]
    },
    {
      "cell_type": "code",
      "execution_count": null,
      "metadata": {
        "colab": {
          "base_uri": "https://localhost:8080/"
        },
        "id": "n-zQcGVnKsSk",
        "outputId": "8504dbc7-8d5d-4174-a44e-32f523a9aea7"
      },
      "outputs": [
        {
          "data": {
            "text/plain": [
              "False"
            ]
          },
          "execution_count": 32,
          "metadata": {},
          "output_type": "execute_result"
        }
      ],
      "source": [
        "x5 = 1\n",
        "x6 = 3\n",
        "not(x5 <= 2 and x6 > 2)"
      ]
    },
    {
      "cell_type": "markdown",
      "metadata": {
        "id": "BqeTqOqFKvVF"
      },
      "source": [
        "**NOT** reverses the result, if the result is true, then the return will be false"
      ]
    },
    {
      "cell_type": "markdown",
      "metadata": {
        "id": "V2RsDEy7LZxP"
      },
      "source": [
        "#### Python Identity Operators"
      ]
    },
    {
      "cell_type": "code",
      "execution_count": null,
      "metadata": {
        "colab": {
          "base_uri": "https://localhost:8080/"
        },
        "id": "4kMtApjALhv7",
        "outputId": "bb143307-0c10-4e7f-ad78-e32ea66f6c89"
      },
      "outputs": [
        {
          "data": {
            "text/plain": [
              "False"
            ]
          },
          "execution_count": 33,
          "metadata": {},
          "output_type": "execute_result"
        }
      ],
      "source": [
        "x5 = 1\n",
        "x6 = 3\n",
        "x5 is x6"
      ]
    },
    {
      "cell_type": "markdown",
      "metadata": {
        "id": "nNPNdlfGMYgS"
      },
      "source": [
        "**IS** returns true if both variables are the same object."
      ]
    },
    {
      "cell_type": "code",
      "execution_count": null,
      "metadata": {
        "id": "4Zg5XxaeMhwl"
      },
      "outputs": [],
      "source": [
        "x5 = 1\n",
        "x6 = 3\n",
        "x5 is not x6"
      ]
    },
    {
      "cell_type": "markdown",
      "metadata": {
        "id": "0_qoXWVoMnfw"
      },
      "source": [
        "**IS Not** returns true if both variables are **NOT** the same object."
      ]
    },
    {
      "cell_type": "markdown",
      "metadata": {
        "id": "cp0pvKeINOaJ"
      },
      "source": [
        "#### Python Membership Operator"
      ]
    },
    {
      "cell_type": "code",
      "execution_count": null,
      "metadata": {
        "id": "DbtdPqe8NzaW"
      },
      "outputs": [],
      "source": [
        "y = ['1', '2','4']\n",
        "'2' in y"
      ]
    },
    {
      "cell_type": "markdown",
      "metadata": {
        "id": "wIOYSnxPNz3h"
      },
      "source": [
        "**IN** returns true if the value is in the sequence"
      ]
    },
    {
      "cell_type": "code",
      "execution_count": null,
      "metadata": {
        "id": "CAeH2P9cN0MV"
      },
      "outputs": [],
      "source": [
        "y = ['1', '2','4']\n",
        "'2' not in y"
      ]
    },
    {
      "cell_type": "markdown",
      "metadata": {
        "id": "jFH0DMHSN0m6"
      },
      "source": [
        "**NOT IN** returns true if the value is not in the sequence"
      ]
    },
    {
      "cell_type": "markdown",
      "metadata": {
        "id": "hQzZJWBhZhWX"
      },
      "source": [
        "#### Order of opereation precedence\n",
        "The order of operations is:\n",
        "Parentheses, Exponents, Multiplicaton & Divison & Floor Division & Modulus, Addition & Subtraction, Comparisons & identity & membership operators, Logical NOT, And, Or."
      ]
    },
    {
      "cell_type": "markdown",
      "metadata": {
        "id": "nGUpOEK0nLz_"
      },
      "source": [
        "### IF/Else Commands"
      ]
    },
    {
      "cell_type": "code",
      "execution_count": null,
      "metadata": {
        "id": "MrSnign6nO1v"
      },
      "outputs": [],
      "source": [
        "a = 50\n",
        "b = 51\n",
        "if a > b:\n",
        "  print('a is bigger than b')\n",
        "elif a == b:\n",
        "  print('a is equal to b')\n",
        "else:\n",
        "  print('a is less than b')"
      ]
    },
    {
      "cell_type": "markdown",
      "metadata": {
        "id": "nbWAmuoMbAG9"
      },
      "source": [
        "#### Practicing with making a basic calculator"
      ]
    },
    {
      "cell_type": "code",
      "execution_count": null,
      "metadata": {
        "colab": {
          "base_uri": "https://localhost:8080/"
        },
        "id": "WbN6k-PFbFF-",
        "outputId": "ec730533-9c38-4389-d2a8-094d85c73269"
      },
      "outputs": [
        {
          "output_type": "stream",
          "name": "stdout",
          "text": [
            "Enter the First Number: 5\n",
            "Enter the second Number: 6\n",
            "Select Operation\n",
            " 1. addition=1 2. subtraction=2 3. multiplication=3 4. division=4 5. Floor Division/n=5 \n",
            "Enter Which Operation You Would Like to Use 2\n",
            "5.0 - 6.0 = -1.0\n"
          ]
        }
      ],
      "source": [
        "def addition(n1,n2):\n",
        "  return n1 + n2\n",
        "def subtraction(n1,n2):\n",
        "  return n1 - n2\n",
        "def multiplication(n1,n2):\n",
        "  return n1 *n2\n",
        "def division(n1,n2):\n",
        "  return n1 / n2\n",
        "def Floor_division(n1,n2):\n",
        "  return n1 // n2\n",
        "\n",
        "n1 = float(input('Enter the First Number: '))\n",
        "n2 = float(input('Enter the second Number: '))\n",
        "\n",
        "print('Select Operation')\n",
        "print(\n",
        "    \" 1. addition = 1\"\n",
        "    \" 2. subtraction = 2\"\n",
        "    \" 3. multiplication = 3\"\n",
        "    \" 4. division = 4\"\n",
        "    \" 5. Floor Division/n = 5 \")\n",
        "\n",
        "operation = float(input('Enter Which Operation You Would Like to Use '))\n",
        "if operation == 1:\n",
        "  print(n1,\"+\",n2,\"=\",addition(n1,n2))\n",
        "elif operation == 2:\n",
        "  print(n1,\"-\",n2,\"=\",subtraction(n1,n2))\n",
        "elif operation == 3:\n",
        "  print(n1,\"*\",n2,\"=\",multiplication(n1,n2))\n",
        "elif operation == 4:\n",
        "  print(n1,\"/\",n2,\"=\",division(n1,n2))\n",
        "elif operation == 5:\n",
        "  print(n1,\"//\",n2,\"=\",Floor_division(n1,n2))\n",
        "else:\n",
        "  print(\"Invalid Number: Select 1/2/3/4/5\")\n"
      ]
    },
    {
      "cell_type": "markdown",
      "metadata": {
        "id": "L8BDb6GYoU75"
      },
      "source": [
        "### Loops and Iterables"
      ]
    },
    {
      "cell_type": "code",
      "execution_count": null,
      "metadata": {
        "id": "Z6XvaMUxqm0p"
      },
      "outputs": [],
      "source": [
        "i = 1\n",
        "while i < 6:\n",
        "  print(i)\n",
        "  if i == 5:\n",
        "    break\n",
        "  i += 1"
      ]
    },
    {
      "cell_type": "markdown",
      "metadata": {
        "id": "4ZW1YuCnLZKt"
      },
      "source": [
        "With the **While** loop we can execute a set of statements as long as a condition is true.\n",
        "With the **Break** statement we can stop the loop even if the while condition is true:"
      ]
    },
    {
      "cell_type": "code",
      "execution_count": null,
      "metadata": {
        "id": "nW1KRSKlLtGR"
      },
      "outputs": [],
      "source": [
        "i = 0\n",
        "while i < 6:\n",
        "  i += 1\n",
        "  if i == 3:\n",
        "    continue\n",
        "  print(i)"
      ]
    },
    {
      "cell_type": "markdown",
      "metadata": {
        "id": "YnMHpzHaL5dy"
      },
      "source": [
        "With the **Continue** statement we can stop the current iteration, and continue with the next."
      ]
    },
    {
      "cell_type": "code",
      "execution_count": null,
      "metadata": {
        "id": "iGb_rE-RMAZa"
      },
      "outputs": [],
      "source": [
        "i = 1\n",
        "while i < 6:\n",
        "  print(i)\n",
        "  i += 1\n",
        "else:\n",
        "  print(\"i is no longer less than 6\")"
      ]
    },
    {
      "cell_type": "markdown",
      "metadata": {
        "id": "93WAuk6eMEPx"
      },
      "source": [
        "With the else statement we can run a block of code once when the condition no longer is true."
      ]
    },
    {
      "cell_type": "code",
      "execution_count": null,
      "metadata": {
        "id": "OAsTymMYOF_Z"
      },
      "outputs": [],
      "source": [
        "fruits = [\"apple\", \"banana\", \"cherry\"]\n",
        "for y in fruits:\n",
        "  print(y)"
      ]
    },
    {
      "cell_type": "markdown",
      "metadata": {
        "id": "SHBU1dyQOruK"
      },
      "source": [
        "A for loop is used for iterating over a sequence (that is either a list, a tuple, a dictionary, a set, or a string)."
      ]
    },
    {
      "cell_type": "code",
      "execution_count": null,
      "metadata": {
        "id": "JRPELRKPOwWI"
      },
      "outputs": [],
      "source": [
        "for x in range(6):\n",
        "  print(x)\n",
        "else:\n",
        "  print(\"Finally finished!\")"
      ]
    },
    {
      "cell_type": "markdown",
      "metadata": {
        "id": "U6T-CRp-PBLj"
      },
      "source": [
        "The range() function returns a sequence of numbers, starting from 0 by default, and increments by 1 (by default), and ends at a specified number."
      ]
    },
    {
      "cell_type": "code",
      "execution_count": null,
      "metadata": {
        "id": "ul7psgfnPcTV"
      },
      "outputs": [],
      "source": [
        "adj = [\"red\", \"big\", \"tasty\"]\n",
        "fruits = [\"apple\", \"banana\", \"cherry\"]\n",
        "\n",
        "for x in adj:\n",
        "  for y in fruits:\n",
        "    print(x, y)"
      ]
    },
    {
      "cell_type": "markdown",
      "metadata": {
        "id": "d7lLiXy0PfWr"
      },
      "source": [
        "A nested loop is a loop inside a loop.\n",
        "\n",
        "The \"inner loop\" will be executed one time for each iteration of the \"outer loop\""
      ]
    },
    {
      "cell_type": "code",
      "execution_count": null,
      "metadata": {
        "id": "4MMLvRvzPjRl"
      },
      "outputs": [],
      "source": [
        "for x in [0, 1, 2]:\n",
        "  pass"
      ]
    },
    {
      "cell_type": "markdown",
      "metadata": {
        "id": "HZPwfBDeQcGl"
      },
      "source": [
        "For loops cannot be empty, but if you for some reason have a for loop with no content, put in the pass statement to avoid getting an error."
      ]
    },
    {
      "cell_type": "markdown",
      "metadata": {
        "id": "sxcb2oZPQ7QR"
      },
      "source": [
        "#### Loops Practice (Data Management Digit Solver)"
      ]
    },
    {
      "cell_type": "code",
      "execution_count": null,
      "metadata": {
        "id": "GWHMyOxfRni9"
      },
      "outputs": [],
      "source": [
        "Digits_Usable = ['1','2','3','4','5','6','7','8','9','0']\n",
        "first_Digit = ['1','3','4','7','8','9']\n",
        "second_Digit = ['1','3','4','7','8','9']\n",
        "third_Digit = ['1','3','7','9']\n",
        "\n",
        "Amount = len(first_Digit)*len(second_Digit)*len(third_Digit)\n",
        "\n",
        "print(\"Here is every digit:\")\n",
        "for x in first_Digit:\n",
        "  for y in second_Digit:\n",
        "    for z in third_Digit:\n",
        "      print(x, y, z)\n",
        "print('Amount of Digits Possible:',Amount)"
      ]
    },
    {
      "cell_type": "markdown",
      "metadata": {
        "id": "QLXBUfE5WiEc"
      },
      "source": [
        "### Functions"
      ]
    },
    {
      "cell_type": "code",
      "execution_count": null,
      "metadata": {
        "id": "kEfv0v8yWqOL"
      },
      "outputs": [],
      "source": [
        "def my_function(fname):\n",
        "  print(fname + \" is stupid\")\n",
        "\n",
        "my_function(\"Homer\")\n",
        "my_function(\"Greg\")\n",
        "my_function(\"Kevin\")"
      ]
    },
    {
      "cell_type": "markdown",
      "metadata": {
        "id": "P8bnu1tDaYmB"
      },
      "source": [
        "Arguments are specified after the function name, inside the parentheses. You can add as many arguments as you want, just separate them with a comma."
      ]
    },
    {
      "cell_type": "code",
      "execution_count": null,
      "metadata": {
        "id": "UylFvJKJbon2"
      },
      "outputs": [],
      "source": [
        "def my_function(*cats):\n",
        "  print(\"The youngest cat is \" + cats[0])\n",
        "\n",
        "my_function(\"Homer\", \"Cali\", \"Annie\")"
      ]
    },
    {
      "cell_type": "markdown",
      "metadata": {
        "id": "aYnpYNEtcTzP"
      },
      "source": [
        "Arbitrary Arguments, or *args\n",
        "\n",
        "If you do not know how many arguments that will be passed into your function, add a * before the parameter name in the function definition."
      ]
    },
    {
      "cell_type": "code",
      "execution_count": null,
      "metadata": {
        "id": "5jsBEtLOeALC"
      },
      "outputs": [],
      "source": [
        "def my_function(child3, child2, child1):\n",
        "  print(\"The youngest child is \" + child3)\n",
        "\n",
        "my_function(child1 = \"homer\", child2 = \"Turner\", child3 = \"Taylor Lewis\")"
      ]
    },
    {
      "cell_type": "markdown",
      "metadata": {
        "id": "y2TauIUgfGli"
      },
      "source": [
        "Keyword Arguments can be used with key = value syntax. This way the order of arguments does not matter"
      ]
    },
    {
      "cell_type": "code",
      "execution_count": null,
      "metadata": {
        "id": "Qh810mJXfc3t"
      },
      "outputs": [],
      "source": [
        "def my_function(**kid):\n",
        "  print(\"His last name is \" + kid[\"lname\"])\n",
        "\n",
        "my_function(fname = \"Homer\", lname = \"simpson\")"
      ]
    },
    {
      "cell_type": "markdown",
      "metadata": {
        "id": "XMSCxEvsrx1p"
      },
      "source": [
        "Arbitrary Keyword Arguments, **Kwargs\n",
        "\n",
        "If you do not know how many keyword arguments that will be passed into your function, add two asterisk."
      ]
    },
    {
      "cell_type": "code",
      "execution_count": null,
      "metadata": {
        "id": "sIwlmnHEsFE9"
      },
      "outputs": [],
      "source": [
        "def recursion(k):\n",
        "  if(k > 0):\n",
        "    result = k + recursion(k-1)\n",
        "    print(result)\n",
        "  else:\n",
        "    result = 0\n",
        "  return result\n",
        "\n",
        "print(\"\\n\\nRecursion Example Results\")\n",
        "recursion(6)"
      ]
    },
    {
      "cell_type": "markdown",
      "metadata": {
        "id": "CxhNzIgmuKS7"
      },
      "source": [
        "Recursion is a common mathematical and programming concept. It means that a function calls itself. This has the benefit of meaning that you can loop through data to reach a result.\n",
        "\n"
      ]
    },
    {
      "cell_type": "markdown",
      "source": [
        "## Review Of all basic Steps - (excluding GitHub)"
      ],
      "metadata": {
        "id": "7L2rOUyHUq8P"
      }
    },
    {
      "cell_type": "markdown",
      "source": [
        "\n",
        "\n",
        "```\n",
        "# This is formatted as code\n",
        "```\n",
        "\n",
        "### Basic Math Guesing Game"
      ],
      "metadata": {
        "id": "eWeNt9j3ff_5"
      }
    },
    {
      "cell_type": "code",
      "source": [
        "print(\"You will always end up with the same number\")\n",
        "\n",
        "k = int(input('Pick A Whole Number: '))\n",
        "print('----------------')\n",
        "import time\n",
        "time.sleep(3)\n",
        "\n",
        "d = k\n",
        "if( k >= 0):\n",
        "  print('Add 15 to your number')\n",
        "  print('----------------')\n",
        "  time.sleep(2)\n",
        "  k = (k + 15)\n",
        "  print(\"Subtract 3\")\n",
        "  print('----------------')\n",
        "  time.sleep(2)\n",
        "  k = (k-3)\n",
        "  print(\"Subtract your original number\")\n",
        "  print('----------------')\n",
        "  k = (k-d)\n",
        "else:\n",
        "  print(\"not negative please, please rerun\")\n",
        "time.sleep(4)\n",
        "print('Calculating...')\n",
        "print('----------------')\n",
        "time.sleep(5)\n",
        "print(\"Is your number:\",k,\"?\")\n"
      ],
      "metadata": {
        "id": "vNMo4pU1VDlG"
      },
      "execution_count": null,
      "outputs": []
    },
    {
      "cell_type": "markdown",
      "source": [
        "# Intermediate Steps Practice"
      ],
      "metadata": {
        "id": "gWUK2DpGs9Js"
      }
    },
    {
      "cell_type": "markdown",
      "source": [
        "## Classes/Objects"
      ],
      "metadata": {
        "id": "_GYsi5fGjJHj"
      }
    },
    {
      "cell_type": "code",
      "source": [
        "class MyClass:\n",
        "  x =5\n",
        "p1 = MyClass()\n",
        "print(p1.x)"
      ],
      "metadata": {
        "id": "23kB65PRtDnv"
      },
      "execution_count": null,
      "outputs": []
    },
    {
      "cell_type": "markdown",
      "source": [
        "Here we created a class which is like a blueprint to create objects. We also created an object named **P1**."
      ],
      "metadata": {
        "id": "RlUijHaClEdn"
      }
    },
    {
      "cell_type": "code",
      "source": [
        "class Person:\n",
        "  def __init__(self, name, age, gender):\n",
        "    self.name = name\n",
        "    self.age = age\n",
        "    self.gender = gender\n",
        "\n",
        "p1 = Person(\"Cole\", 17, \"Male\")\n",
        "\n",
        "print(p1.name)\n",
        "print(p1.age)\n",
        "print(p1.gender)"
      ],
      "metadata": {
        "id": "pdpl6h47lnQc"
      },
      "execution_count": null,
      "outputs": []
    },
    {
      "cell_type": "markdown",
      "source": [
        "All classes have a function called __init__(), which is always executed when the class is being initiated. We use the __init__() function to assign values to object properties, or other operations.\n",
        "\n"
      ],
      "metadata": {
        "id": "yWRulri5mRct"
      }
    },
    {
      "cell_type": "code",
      "source": [
        "class Person:\n",
        "  def __init__(self, name, age):\n",
        "    self.name = name\n",
        "    self.age = age\n",
        "\n",
        "  def __str__(self):\n",
        "    return f\"{self.name} {self.age}\"\n",
        "\n",
        "p1 = Person(\"Cole\", 17)\n",
        "\n",
        "print(p1)"
      ],
      "metadata": {
        "colab": {
          "base_uri": "https://localhost:8080/"
        },
        "id": "7ghquBSCme0u",
        "outputId": "3538fbdd-d4be-4212-d2fa-1874207f5bf1"
      },
      "execution_count": null,
      "outputs": [
        {
          "output_type": "stream",
          "name": "stdout",
          "text": [
            "Cole 17\n"
          ]
        }
      ]
    },
    {
      "cell_type": "markdown",
      "source": [
        "The __str__() function controls what should be returned when the class object is represented as a string.\n",
        "\n",
        "Objects can also contain methods. Methods in objects are functions that belong to the object."
      ],
      "metadata": {
        "id": "R-awbS3Ont6Q"
      }
    },
    {
      "cell_type": "markdown",
      "source": [
        "The **self** parameter is a reference to the current instance of the class, and is used to access variables that belongs to the class. It also does not have to be named self but must be the first parameter."
      ],
      "metadata": {
        "id": "tqaCt9d5EzHH"
      }
    },
    {
      "cell_type": "code",
      "source": [
        "class Cole_Identity:\n",
        "  def __init__(me, name, age, gender, sport, school, birthplace):\n",
        "      me.name = name\n",
        "      me.age = age\n",
        "      me.gender = gender\n",
        "      me.sport = sport\n",
        "      me.school = school\n",
        "      me.birthplace = birthplace\n",
        "\n",
        "Cole = Cole_Identity(\"Cole\", 17, \"Male\", \"Soccer\", \"King Heights Academy\", \"Toronto, Canada\" )\n",
        "\n",
        "print(Cole.name)\n",
        "print(Cole.age)\n",
        "print(Cole.gender)\n",
        "print(Cole.sport)\n",
        "print(Cole.school)\n",
        "print(Cole.birthplace)"
      ],
      "metadata": {
        "id": "JK3-7f9YFfxt"
      },
      "execution_count": null,
      "outputs": []
    },
    {
      "cell_type": "markdown",
      "source": [
        "## Data Structures"
      ],
      "metadata": {
        "id": "etBeUruUIRWs"
      }
    }
  ],
  "metadata": {
    "colab": {
      "provenance": [],
      "toc_visible": true,
      "authorship_tag": "ABX9TyNh7lCier2b8ncyu4APRKho",
      "include_colab_link": true
    },
    "kernelspec": {
      "display_name": "Python 3",
      "name": "python3"
    },
    "language_info": {
      "name": "python"
    }
  },
  "nbformat": 4,
  "nbformat_minor": 0
}